{
 "cells": [
  {
   "cell_type": "code",
   "execution_count": 15,
   "id": "eb7c89e9",
   "metadata": {},
   "outputs": [],
   "source": [
    "import joblib as j\n",
    "import pandas as pd\n",
    "import numpy as np\n",
    "import pathlib as p"
   ]
  },
  {
   "cell_type": "code",
   "execution_count": 12,
   "id": "f9042f98",
   "metadata": {},
   "outputs": [],
   "source": [
    "# Ruta de los datos\n",
    "datos_ruta = p.Path('../data/processed/data_set.csv')\n",
    "df = pd.read_csv(datos_ruta)\n",
    "# Importar modelo\n",
    "modelo_ruta = p.Path('../models/modelo_regresion_logistica.pkl')\n",
    "modelo = j.load(modelo_ruta) "
   ]
  },
  {
   "cell_type": "code",
   "execution_count": 13,
   "id": "91fbf76a",
   "metadata": {},
   "outputs": [],
   "source": [
    "df = df[df['id']==335]\n",
    "df = df.drop('desertor',axis=1)\n",
    "prediccion = modelo.predict(df)"
   ]
  },
  {
   "cell_type": "code",
   "execution_count": 14,
   "id": "1b5baef0",
   "metadata": {},
   "outputs": [
    {
     "name": "stdout",
     "output_type": "stream",
     "text": [
      "[0]\n"
     ]
    }
   ],
   "source": [
    "print(prediccion)"
   ]
  }
 ],
 "metadata": {
  "kernelspec": {
   "display_name": "proyecto_semillero",
   "language": "python",
   "name": "python3"
  },
  "language_info": {
   "codemirror_mode": {
    "name": "ipython",
    "version": 3
   },
   "file_extension": ".py",
   "mimetype": "text/x-python",
   "name": "python",
   "nbconvert_exporter": "python",
   "pygments_lexer": "ipython3",
   "version": "3.13.5"
  }
 },
 "nbformat": 4,
 "nbformat_minor": 5
}
