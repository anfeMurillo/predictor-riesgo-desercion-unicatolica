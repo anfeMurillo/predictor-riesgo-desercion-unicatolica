{
 "cells": [
  {
   "cell_type": "code",
   "execution_count": 1,
   "id": "06b64783",
   "metadata": {},
   "outputs": [],
   "source": [
    "import pandas as pd\n",
    "from sklearn.model_selection import train_test_split\n",
    "from sklearn.tree import DecisionTreeClassifier\n",
    "from sklearn.metrics import classification_report, confusion_matrix\n",
    "from imblearn.over_sampling import SMOTE\n",
    "import joblib as j\n",
    "import pathlib as p"
   ]
  },
  {
   "cell_type": "code",
   "execution_count": 2,
   "id": "567776a8",
   "metadata": {},
   "outputs": [
    {
     "name": "stdout",
     "output_type": "stream",
     "text": [
      "[[58  1]\n",
      " [ 7 46]]\n",
      "              precision    recall  f1-score   support\n",
      "\n",
      "           0       0.89      0.98      0.94        59\n",
      "           1       0.98      0.87      0.92        53\n",
      "\n",
      "    accuracy                           0.93       112\n",
      "   macro avg       0.94      0.93      0.93       112\n",
      "weighted avg       0.93      0.93      0.93       112\n",
      "\n"
     ]
    }
   ],
   "source": [
    "# Cargar datos\n",
    "data_path = '../data/processed/data_set.csv'\n",
    "df = pd.read_csv(data_path)\n",
    "\n",
    "# Separar variables independientes y dependiente\n",
    "X = df.drop('desertor', axis=1)  # Cambia 'desertor' si tu columna objetivo tiene otro nombre\n",
    "y = df['desertor']\n",
    "\n",
    "# Balanceo de clases\n",
    "smote = SMOTE(random_state=42)\n",
    "X_res, y_res = smote.fit_resample(X, y)\n",
    "\n",
    "# Separar en train y test\n",
    "X_train, X_test, y_train, y_test = train_test_split(X_res, y_res, test_size=0.2, random_state=42)\n",
    "\n",
    "# Entrenar modelo de árbol de decisión\n",
    "model = DecisionTreeClassifier(random_state=42)\n",
    "model.fit(X_train, y_train)\n",
    "\n",
    "# Predicciones y evaluación\n",
    "y_pred = model.predict(X_test)\n",
    "print(confusion_matrix(y_test, y_pred))\n",
    "print(classification_report(y_test, y_pred))"
   ]
  },
  {
   "cell_type": "code",
   "execution_count": 3,
   "id": "3dec9158",
   "metadata": {},
   "outputs": [
    {
     "data": {
      "image/png": "[encoded data removed]",
      "text/plain": [
       "<Figure size 640x480 with 2 Axes>"
      ]
     },
     "metadata": {},
     "output_type": "display_data"
    }
   ],
   "source": [
    "import matplotlib.pyplot as plt\n",
    "import seaborn as sns\n",
    "\n",
    "matriz_confusion = confusion_matrix(y_test,y_pred)\n",
    "\n",
    "sns.heatmap(matriz_confusion,annot=True,fmt='d',cmap='Blues')\n",
    "plt.xlabel('Predicción')\n",
    "plt.ylabel('Real')\n",
    "plt.title('Matriz de confusión')\n",
    "plt.show()"
   ]
  },
  {
   "cell_type": "code",
   "execution_count": 4,
   "id": "22025c76",
   "metadata": {},
   "outputs": [
    {
     "data": {
      "text/plain": [
       "['..\\\\models\\\\modelo_arboles_de_decision.pkl']"
      ]
     },
     "execution_count": 4,
     "metadata": {},
     "output_type": "execute_result"
    }
   ],
   "source": [
    "path_save = p.Path('../models/modelo_arboles_de_decision.pkl')\n",
    "j.dump(model,path_save)"
   ]
  }
 ],
 "metadata": {
  "kernelspec": {
   "display_name": "proyecto_semillero",
   "language": "python",
   "name": "python3"
  },
  "language_info": {
   "codemirror_mode": {
    "name": "ipython",
    "version": 3
   },
   "file_extension": ".py",
   "mimetype": "text/x-python",
   "name": "python",
   "nbconvert_exporter": "python",
   "pygments_lexer": "ipython3",
   "version": "3.13.5"
  }
 },
 "nbformat": 4,
 "nbformat_minor": 5
}
